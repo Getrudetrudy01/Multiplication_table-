{
 "cells": [
  {
   "cell_type": "code",
   "execution_count": 1,
   "id": "42b46933",
   "metadata": {},
   "outputs": [
    {
     "name": "stdout",
     "output_type": "stream",
     "text": [
      "Enter a number to view it's multiplication table: 5\n",
      "5 × 0 =  0\n",
      "5 × 1 =  5\n",
      "5 × 2 =  10\n",
      "5 × 3 =  15\n",
      "5 × 4 =  20\n",
      "5 × 5 =  25\n",
      "5 × 6 =  30\n",
      "5 × 7 =  35\n",
      "5 × 8 =  40\n",
      "5 × 9 =  45\n",
      "5 × 10 =  50\n",
      "5 × 11 =  55\n",
      "5 × 12 =  60\n"
     ]
    }
   ],
   "source": [
    "def multiplication(number):\n",
    "    for j in range(0,13):\n",
    "        print(str(number) + \" × \" + str(j) + \" = \", number*j)\n",
    "        \n",
    "user_num = input(\"Enter a number to view it's multiplication table: \")        \n",
    "multiplication(int(user_num))"
   ]
  },
  {
   "cell_type": "code",
   "execution_count": null,
   "id": "f135e80b",
   "metadata": {},
   "outputs": [],
   "source": []
  }
 ],
 "metadata": {
  "kernelspec": {
   "display_name": "Python 3 (ipykernel)",
   "language": "python",
   "name": "python3"
  },
  "language_info": {
   "codemirror_mode": {
    "name": "ipython",
    "version": 3
   },
   "file_extension": ".py",
   "mimetype": "text/x-python",
   "name": "python",
   "nbconvert_exporter": "python",
   "pygments_lexer": "ipython3",
   "version": "3.9.13"
  }
 },
 "nbformat": 4,
 "nbformat_minor": 5
}
